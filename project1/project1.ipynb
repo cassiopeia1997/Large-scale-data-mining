{
 "cells": [
  {
   "cell_type": "raw",
   "metadata": {},
   "source": [
    "Data Import"
   ]
  },
  {
   "cell_type": "code",
   "execution_count": 1,
   "metadata": {},
   "outputs": [
    {
     "name": "stdout",
     "output_type": "stream",
     "text": [
      "['comp.graphics', 'comp.os.ms-windows.misc', 'comp.sys.ibm.pc.hardware', 'comp.sys.mac.hardware', 'rec.autos', 'rec.motorcycles', 'rec.sport.baseball', 'rec.sport.hockey']\n"
     ]
    }
   ],
   "source": [
    "import numpy as np\n",
    "import random\n",
    "from sklearn.datasets import fetch_20newsgroups\n",
    "from sklearn.datasets import fetch_20newsgroups\n",
    "np.random.seed(42)\n",
    "random.seed(42)\n",
    "\n",
    "categories = ['comp.graphics',\n",
    "'comp.os.ms-windows.misc',\n",
    "'comp.sys.ibm.pc.hardware',\n",
    "'comp.sys.mac.hardware','rec.autos',\n",
    "'rec.motorcycles','rec.sport.baseball',\n",
    "'rec.sport.hockey']\n",
    "newsgroups_train = fetch_20newsgroups(subset='train', categories=categories, shuffle=True, random_state=42)\n",
    "newsgroups_test = fetch_20newsgroups(subset='test', categories=categories, shuffle=True, random_state=42)\n",
    "print(newsgroups_train.target_names)"
   ]
  },
  {
   "cell_type": "raw",
   "metadata": {},
   "source": [
    "Plot the Data"
   ]
  },
  {
   "cell_type": "code",
   "execution_count": 6,
   "metadata": {},
   "outputs": [
    {
     "data": {
      "image/png": "[encoded data removed]",
      "text/plain": [
       "<Figure size 432x288 with 1 Axes>"
      ]
     },
     "metadata": {
      "needs_background": "light"
     },
     "output_type": "display_data"
    }
   ],
   "source": [
    "%matplotlib inline\n",
    "import matplotlib.pyplot as plt\n",
    "\n",
    "SMALL_SIZE = 12\n",
    "MEDIUM_SIZE = 14\n",
    "BIGGER_SIZE = 16\n",
    "\n",
    "plt.rc('font', size=MEDIUM_SIZE)         # controls default text sizes\n",
    "plt.rc('axes', titlesize=BIGGER_SIZE)    # fontsize of the axes title\n",
    "plt.rc('axes', labelsize=MEDIUM_SIZE)    # fontsize of the x and y labels\n",
    "plt.rc('xtick', labelsize=SMALL_SIZE)    # fontsize of the tick labels\n",
    "plt.rc('ytick', labelsize=SMALL_SIZE)    # fontsize of the tick labels\n",
    "plt.rc('legend', fontsize=SMALL_SIZE)    # legend fontsize\n",
    "plt.rc('figure', titlesize=BIGGER_SIZE)  # fontsize of the figure title\n",
    "\n",
    "unique, counts = np.unique(newsgroups_train.target, return_counts=True)\n",
    "plt.bar(unique, counts, align='center', tick_label=newsgroups_train.target_names, color='xkcd:sky blue')\n",
    "plt.title('Number of Documents for Each Topic')\n",
    "plt.ylabel('Number of Documents')\n",
    "plt.ylim([400,700])\n",
    "plt.xticks(rotation='vertical')\n",
    "plt.yticks(np.arange(400, 700, 50))\n",
    "plt.show()\n"
   ]
  },
  {
   "cell_type": "code",
   "execution_count": 10,
   "metadata": {},
   "outputs": [
    {
     "name": "stdout",
     "output_type": "stream",
     "text": [
      "['football', 'be', 'a', 'family', 'of', 'team', 'sport', 'of', '11', 'member']\n"
     ]
    }
   ],
   "source": [
    "from nltk import word_tokenize,pos_tag\n",
    "from nltk.corpus import wordnet\n",
    "from nltk.stem import WordNetLemmatizer\n",
    "import nltk\n",
    "#nltk.download('punkt')\n",
    "#nltk.download('averaged_perceptron_tagger')\n",
    "#nltk.download('wordnet')\n",
    "def get_wordnet_pos(tag):\n",
    "    if tag.startswith('J'):\n",
    "        return wordnet.ADJ\n",
    "    elif tag.startswith('V'):\n",
    "        return wordnet.VERB\n",
    "    elif tag.startswith('N'):\n",
    "        return wordnet.NOUN\n",
    "    elif tag.startswith('R'):\n",
    "        return wordnet.ADV\n",
    "    else:\n",
    "        return None\n",
    "sentence='football is a family of team sports of 11 members'\n",
    "tokens=word_tokenize(sentence)\n",
    "tagged_sent=pos_tag(tokens)\n",
    "wnl=WordNetLemmatizer()\n",
    "lemmas_sent=[]\n",
    "for tag in tagged_sent:\n",
    "    wordnet_pos=get_wordnet_pos(tag[1]) or wordnet.NOUN\n",
    "    lemmas_sent.append(wnl.lemmatize(tag[0],pos=wordnet_pos))\n",
    "print(lemmas_sent)"
   ]
  },
  {
   "cell_type": "code",
   "execution_count": 11,
   "metadata": {},
   "outputs": [
    {
     "name": "stdout",
     "output_type": "stream",
     "text": [
      "['football', 'is', 'a', 'family', 'of', 'team', 'sports', 'of', '11', 'members']\n"
     ]
    }
   ],
   "source": [
    "from nltk import word_tokenize,pos_tag\n",
    "from nltk.corpus import wordnet\n",
    "from nltk.stem import WordNetLemmatizer\n",
    "import nltk\n",
    "#nltk.download('punkt')\n",
    "#nltk.download('averaged_perceptron_tagger')\n",
    "#nltk.download('wordnet')\n",
    "wnl=WordNetLemmatizer()\n",
    "def get_wordnet_pos(tag):\n",
    "    if tag.startswith('J'):\n",
    "        return wordnet.ADJ\n",
    "    elif tag.startswith('V'):\n",
    "        return wordnet.VERB\n",
    "    elif tag.startswith('N'):\n",
    "        return wordnet.NOUN\n",
    "    elif tag.startswith('R'):\n",
    "        return wordnet.ADV\n",
    "    else:\n",
    "        return None\n",
    "\n",
    "def tokenize_and_lem(sentence):\n",
    "    tokens = word_tokenize(sentence)\n",
    "    tokens=[token for token in tokens if not token.isdigit()]\n",
    "    tagged_sent=pos_tag(tokens)\n",
    "    lemmas_sent=[]\n",
    "    for tag in tagged_sent:\n",
    "        wordnet_pos=get_wordnet_pos(tag[1]) or wordnet.NOUN\n",
    "        lemmas_sent.append(wnl.lemmatize(tag[0],pos=wordnet_pos))\n",
    "    return lemmas_sent\n",
    "print(tokens)\n",
    "#print(newsgroups_train.data[1])\n",
    "#print(tokenize_and_lem(newsgroups_train.data[1]))"
   ]
  },
  {
   "cell_type": "code",
   "execution_count": 12,
   "metadata": {},
   "outputs": [
    {
     "name": "stdout",
     "output_type": "stream",
     "text": [
      "[('He', 'PRP'), ('is', 'VBZ'), ('walking', 'VBG'), ('to', 'TO'), ('school', 'NN')]\n",
      "mapping to Verb, Noun, Adjective, Adverbial\n"
     ]
    },
    {
     "data": {
      "text/plain": [
       "['he', 'be', 'walk', 'to', 'school']"
      ]
     },
     "execution_count": 12,
     "metadata": {},
     "output_type": "execute_result"
    }
   ],
   "source": [
    "'''\n",
    "from sklearn.feature_extraction import text\n",
    "from sklearn.feature_extraction.text import CountVectorizer\n",
    "from nltk import word_tokenize,pos_tag\n",
    "from nltk.corpus import wordnet\n",
    "from nltk.stem import WordNetLemmatizer\n",
    "import nltk\n",
    "#nltk.download('punkt')\n",
    "#nltk.download('averaged_perceptron_tagger')\n",
    "#nltk.download('wordnet')\n",
    "wnl=WordNetLemmatizer()\n",
    "def get_wordnet_pos(tag):\n",
    "    if tag.startswith('J'):\n",
    "        return wordnet.ADJ\n",
    "    elif tag.startswith('V'):\n",
    "        return wordnet.VERB\n",
    "    elif tag.startswith('N'):\n",
    "        return wordnet.NOUN\n",
    "    elif tag.startswith('R'):\n",
    "        return wordnet.ADV\n",
    "    else:\n",
    "        return None\n",
    "\n",
    "def tokenize_and_lem(sentence):\n",
    "    tokens = word_tokenize(sentence)\n",
    "    #tokens=[token for token in tokens if not token.isdigit()]\n",
    "    tagged_sent=pos_tag(tokens)\n",
    "    lemmas_sent=[]\n",
    "    for tag in tagged_sent:\n",
    "        wordnet_pos=get_wordnet_pos(tag[1]) or wordnet.NOUN\n",
    "        lemmas_sent.append(wnl.lemmatize(tag[0],pos=wordnet_pos))\n",
    "    return lemmas_sent\n",
    "min_df = 3\n",
    "countVectorizer = CountVectorizer(min_df=min_df, stop_words='english', analyzer ='word',tokenizer=tokenize_and_lem)\n",
    "countVectorsTrain = countVectorizer.fit_transform(newsgroups_train.data)\n",
    "#print('When min_df=%d, we get %d documents with %d terms.' % (min_df, countVectorsTrain.shape[0], countVectorsTrain.shape[1]))\n",
    "print(countVectorsTrain.shape)\n",
    "'''\n",
    "# one example for advanced stemming\n",
    "# The lemmatizer is actually pretty complicated, it needs Parts of Speech (POS) tags\n",
    "from nltk import pos_tag\n",
    "# nltk.download('punkt')#, if you need \"tokenizers/punkt/english.pickle\", choose it\n",
    "# nltk.download('averaged_perceptron_tagger')\n",
    "wnl = nltk.wordnet.WordNetLemmatizer()\n",
    "walking_tagged = pos_tag(nltk.word_tokenize('He is walking to school'))\n",
    "print(walking_tagged)\n",
    "print(\"mapping to Verb, Noun, Adjective, Adverbial\")\n",
    "\n",
    "def penn2morphy(penntag):\n",
    "    \"\"\" Converts Penn Treebank tags to WordNet. \"\"\"\n",
    "    morphy_tag = {'NN':'n', 'JJ':'a',\n",
    "                  'VB':'v', 'RB':'r'}\n",
    "    try:\n",
    "        return morphy_tag[penntag[:2]]\n",
    "    except:\n",
    "        return 'n'\n",
    "\n",
    "def lemmatize_sent_demo(text):\n",
    "    # Text input is string, returns array of lowercased strings(words).\n",
    "    return [wnl.lemmatize(word.lower(), pos=penn2morphy(tag)) \n",
    "            for word, tag in pos_tag(nltk.word_tokenize(text))]\n",
    "def lemmatize_sent(list_word):\n",
    "    # Text input is string, returns array of lowercased strings(words).\n",
    "    return [wnl.lemmatize(word.lower(), pos=penn2morphy(tag)) \n",
    "            for word, tag in pos_tag(list_word)]\n",
    "\n",
    "lemmatize_sent_demo('He is walking to school')"
   ]
  },
  {
   "cell_type": "code",
   "execution_count": 13,
   "metadata": {},
   "outputs": [
    {
     "data": {
      "text/plain": [
       "['he', 'be', 'walk', 'to', 'school']"
      ]
     },
     "execution_count": 13,
     "metadata": {},
     "output_type": "execute_result"
    }
   ],
   "source": [
    "lemmatize_sent(['He', 'is', 'walking', 'to', 'school'])"
   ]
  },
  {
   "cell_type": "code",
   "execution_count": 14,
   "metadata": {},
   "outputs": [],
   "source": [
    "from sklearn.feature_extraction import text\n",
    "from sklearn.feature_extraction.text import CountVectorizer\n",
    "from nltk import word_tokenize,pos_tag\n",
    "from nltk.corpus import wordnet\n",
    "from nltk.stem import WordNetLemmatizer\n",
    "analyzer = CountVectorizer().build_analyzer()\n",
    "\n",
    "\n",
    "def stem_rmv_digit(doc):\n",
    "    return (word for word in lemmatize_sent(analyzer(doc)) if not word.isdigit())"
   ]
  },
  {
   "cell_type": "code",
   "execution_count": 15,
   "metadata": {},
   "outputs": [
    {
     "name": "stdout",
     "output_type": "stream",
     "text": [
      "(4732, 16600)\n"
     ]
    }
   ],
   "source": [
    "from sklearn.feature_extraction.text import CountVectorizer\n",
    "min_df = 3\n",
    "countVectorizer = CountVectorizer(min_df=min_df,analyzer=stem_rmv_digit, stop_words='english')\n",
    "countVectorTrain = countVectorizer.fit_transform(newsgroups_train.data)\n",
    "print(countVectorTrain.shape)"
   ]
  },
  {
   "cell_type": "code",
   "execution_count": 16,
   "metadata": {},
   "outputs": [
    {
     "name": "stdout",
     "output_type": "stream",
     "text": [
      "(3150, 16600)\n"
     ]
    }
   ],
   "source": [
    "countVectorsTest = countVectorizer.transform(newsgroups_test.data)\n",
    "#print('Test dataset: When min_df=%d, we get %d documents with %d terms.' % (min_df, countVectorsTest.shape[0], countVectorsTest.shape[1]))\n",
    "print(countVectorsTest.shape)"
   ]
  },
  {
   "cell_type": "code",
   "execution_count": 17,
   "metadata": {},
   "outputs": [
    {
     "name": "stdout",
     "output_type": "stream",
     "text": [
      "(4732, 16600)\n",
      "(3150, 16600)\n"
     ]
    }
   ],
   "source": [
    "from sklearn.feature_extraction.text import TfidfTransformer\n",
    "tfidf_transformer = TfidfTransformer()\n",
    "tficfVectorsTrain = tfidf_transformer.fit_transform(countVectorTrain)\n",
    "tficfVectorsTest = tfidf_transformer.transform(countVectorsTest)\n",
    "print(tficfVectorsTrain.shape)\n",
    "print(tficfVectorsTest.shape)"
   ]
  },
  {
   "cell_type": "markdown",
   "metadata": {},
   "source": [
    "Reduce Demension"
   ]
  },
  {
   "cell_type": "code",
   "execution_count": 19,
   "metadata": {},
   "outputs": [
    {
     "name": "stdout",
     "output_type": "stream",
     "text": [
      "[[ 3.86917491e-01  1.89343389e-01  1.03009247e-01 ... -2.93103364e-02\n",
      "  -3.94720501e-03  2.59063146e-02]\n",
      " [ 2.77695813e-01  1.40957540e-01 -2.85706003e-02 ... -1.10088798e-02\n",
      "   2.23856806e-01 -1.15908369e-01]\n",
      " [ 3.65495275e-01 -1.79295933e-02  8.00708040e-02 ... -1.06744706e-02\n",
      "  -8.74027273e-03  1.91881318e-04]\n",
      " ...\n",
      " [ 2.16167871e-01  8.86151756e-02 -4.83079546e-02 ... -4.92653236e-02\n",
      "  -5.23698150e-02 -4.12346453e-02]\n",
      " [ 5.08640799e-01  2.73354169e-01  3.34212467e-02 ... -1.50319956e-03\n",
      "  -2.57404327e-02  1.41274940e-02]\n",
      " [ 1.59710416e-01 -5.59979840e-02 -6.45332229e-02 ... -3.71180349e-02\n",
      "   1.59251114e-03 -6.38503882e-02]]\n",
      "(4732, 50)\n"
     ]
    }
   ],
   "source": [
    "from sklearn.decomposition import TruncatedSVD\n",
    "\n",
    "svd = TruncatedSVD(n_components=50, n_iter=7, random_state=42)\n",
    "lsiVectorsTrain = svd.fit_transform(tficfVectorsTrain)\n",
    "print(lsiVectorsTrain)\n",
    "print(lsiVectorsTrain.shape)"
   ]
  },
  {
   "cell_type": "code",
   "execution_count": 20,
   "metadata": {},
   "outputs": [
    {
     "name": "stdout",
     "output_type": "stream",
     "text": [
      "(4732, 16600)\n",
      "[[ 6.66034803e-04 -2.97590075e-04  7.50004457e-04 ...  2.71478871e-05\n",
      "   2.10157044e-04  4.23683430e-04]\n",
      " [ 1.20195908e-04  5.92254079e-04 -6.08939050e-04 ...  3.49500334e-04\n",
      "  -7.84555272e-04 -3.17302406e-04]\n",
      " [ 3.88722143e-04 -2.63110306e-06  5.57437139e-04 ... -5.44309075e-05\n",
      "   1.07822081e-04  6.91358503e-05]\n",
      " ...\n",
      " [-5.63188288e-04 -1.57038961e-04  2.46686945e-03 ...  4.44118380e-04\n",
      "   4.35186896e-04  1.33661222e-03]\n",
      " [ 1.13198696e-03 -8.90727038e-05  1.25054485e-03 ...  8.09888457e-05\n",
      "   3.43792030e-04  4.25087402e-04]\n",
      " [-2.35963542e-04 -8.14638607e-05  1.96820735e-05 ...  3.99157286e-05\n",
      "   3.18826630e-04  1.33166499e-04]]\n"
     ]
    }
   ],
   "source": [
    "b=svd.inverse_transform(lsiVectorsTrain)\n",
    "print(b.shape)\n",
    "print(b)"
   ]
  },
  {
   "cell_type": "code",
   "execution_count": 21,
   "metadata": {},
   "outputs": [
    {
     "name": "stdout",
     "output_type": "stream",
     "text": [
      "(4732, 16600)\n",
      "(4732, 16600)\n",
      "62.38033050080974\n"
     ]
    }
   ],
   "source": [
    "#b=np.pad(lsiVectorsTrain,((0,0),(0,16600-50)),'constant',constant_values = (0,0))\n",
    "print(b.shape)\n",
    "print(tficfVectorsTrain.shape)\n",
    "print(np.linalg.norm(tficfVectorsTrain-b,ord = 'fro'))"
   ]
  },
  {
   "cell_type": "code",
   "execution_count": 22,
   "metadata": {},
   "outputs": [
    {
     "name": "stdout",
     "output_type": "stream",
     "text": [
      "(3150, 16600)\n",
      "[[ 2.04229128e-01 -8.03453337e-02  3.77405969e-02 ... -1.11154331e-02\n",
      "   9.82050295e-03 -1.05222406e-01]\n",
      " [ 3.81542964e-01 -1.25193875e-01  2.50136456e-01 ...  2.63290583e-01\n",
      "  -3.99833047e-04  9.16127530e-02]\n",
      " [ 1.62053268e-01 -3.94895616e-02 -1.07472979e-01 ...  1.90821533e-02\n",
      "   7.48652339e-03 -4.07317167e-02]\n",
      " ...\n",
      " [ 4.88298064e-01  7.32451601e-02  2.84747496e-02 ...  2.04624519e-02\n",
      "   9.26257075e-03  3.18674350e-02]\n",
      " [ 2.46327858e-01 -4.83583308e-02 -3.22748540e-03 ... -3.51055315e-02\n",
      "   6.75337106e-03 -2.74346607e-02]\n",
      " [ 3.06725321e-01 -7.58951460e-02  2.11766966e-02 ... -3.02563905e-02\n",
      "  -3.94898456e-02  1.96526376e-02]]\n",
      "(3150, 50)\n"
     ]
    }
   ],
   "source": [
    "print(tficfVectorsTest.shape)\n",
    "lsiVectorsTest = svd.transform(tficfVectorsTest)\n",
    "print(lsiVectorsTest)\n",
    "print(lsiVectorsTest.shape)"
   ]
  },
  {
   "cell_type": "code",
   "execution_count": 24,
   "metadata": {},
   "outputs": [
    {
     "name": "stdout",
     "output_type": "stream",
     "text": [
      "[[0.01129961 0.         0.01659245 ... 0.         0.         0.        ]\n",
      " [0.01866309 0.         0.         ... 0.         0.         0.00138722]\n",
      " [0.03989053 0.         0.01253462 ... 0.00098366 0.04052591 0.        ]\n",
      " ...\n",
      " [0.01429456 0.         0.00985267 ... 0.         0.00104238 0.        ]\n",
      " [0.02829872 0.         0.01603104 ... 0.         0.         0.        ]\n",
      " [0.01349887 0.02232173 0.         ... 0.         0.00320041 0.        ]]\n",
      "(4732, 50)\n"
     ]
    }
   ],
   "source": [
    "from sklearn.decomposition import NMF\n",
    "\n",
    "nmf = NMF(n_components=50, init='random', random_state=0)\n",
    "nmfVectorsTrain = nmf.fit_transform(tficfVectorsTrain)\n",
    "print(nmfVectorsTrain)\n",
    "print(nmfVectorsTrain.shape)"
   ]
  },
  {
   "cell_type": "code",
   "execution_count": 35,
   "metadata": {},
   "outputs": [
    {
     "name": "stdout",
     "output_type": "stream",
     "text": [
      "[[0.         0.00236789 0.         ... 0.         0.         0.        ]\n",
      " [0.         0.         0.00047593 ... 0.         0.         0.        ]\n",
      " [0.         0.         0.         ... 0.00673803 0.         0.        ]\n",
      " ...\n",
      " [0.00016646 0.         0.00211907 ... 0.00102397 0.         0.        ]\n",
      " [0.         0.         0.         ... 0.         0.         0.        ]\n",
      " [0.00084455 0.         0.         ... 0.00051397 0.         0.        ]]\n",
      "[[4.89900281e-04 2.67562299e-05 6.86766942e-04 ... 1.54489278e-04\n",
      "  1.06010947e-04 8.45349527e-05]\n",
      " [1.64593711e-04 4.77986853e-05 1.61492872e-04 ... 3.57858781e-05\n",
      "  0.00000000e+00 1.43503771e-05]\n",
      " [3.38712686e-04 1.25004892e-04 1.36191171e-04 ... 1.09451975e-04\n",
      "  1.13759066e-04 2.70163344e-05]\n",
      " ...\n",
      " [0.00000000e+00 5.24391980e-05 1.74869822e-03 ... 8.24640020e-05\n",
      "  4.70738800e-04 7.85880249e-04]\n",
      " [1.08712700e-03 6.82111846e-05 5.31289290e-04 ... 1.57393756e-04\n",
      "  2.95265570e-04 3.16222925e-04]\n",
      " [3.07051139e-05 4.37666959e-05 4.50515577e-05 ... 1.79033030e-04\n",
      "  2.05423594e-04 1.10173310e-06]]\n",
      "(4732, 16600)\n",
      "62.77386213055328\n",
      "None\n"
     ]
    }
   ],
   "source": [
    "h=nmf.components_\n",
    "print(h)\n",
    "tt=np.dot(nmfVectorsTrain,h)\n",
    "print(tt)\n",
    "print(tt.shape)\n",
    "print(print(np.linalg.norm(tficfVectorsTrain-tt,ord = 'fro')))"
   ]
  },
  {
   "cell_type": "code",
   "execution_count": 36,
   "metadata": {},
   "outputs": [
    {
     "name": "stdout",
     "output_type": "stream",
     "text": [
      "(4732, 16600)\n",
      "62.77386213055328\n"
     ]
    }
   ],
   "source": [
    "b=nmf.inverse_transform(nmfVectorsTrain)\n",
    "print(b.shape)\n",
    "print(np.linalg.norm(tficfVectorsTrain-b,ord = 'fro'))"
   ]
  },
  {
   "cell_type": "code",
   "execution_count": 27,
   "metadata": {},
   "outputs": [
    {
     "name": "stdout",
     "output_type": "stream",
     "text": [
      "[[0.03326424 0.00659175 0.01090581 ... 0.0025124  0.         0.0016027 ]\n",
      " [0.03073331 0.         0.         ... 0.14798759 0.         0.        ]\n",
      " [0.02023159 0.00030899 0.         ... 0.         0.00440911 0.        ]\n",
      " ...\n",
      " [0.08251149 0.04917901 0.01566377 ... 0.         0.         0.        ]\n",
      " [0.0177226  0.02627702 0.04684707 ... 0.         0.         0.        ]\n",
      " [0.02382452 0.         0.05007103 ... 0.         0.         0.        ]]\n",
      "(3150, 50)\n"
     ]
    }
   ],
   "source": [
    "nmfVectorsTest = nmf.transform(tficfVectorsTest)\n",
    "print(nmfVectorsTest)\n",
    "print(nmfVectorsTest.shape)"
   ]
  },
  {
   "cell_type": "code",
   "execution_count": 28,
   "metadata": {},
   "outputs": [
    {
     "data": {
      "text/plain": [
       "<bound method BaseEstimator.get_params of NMF(alpha=0.0, beta_loss='frobenius', init='random', l1_ratio=0.0,\n",
       "  max_iter=200, n_components=50, random_state=0, shuffle=False,\n",
       "  solver='cd', tol=0.0001, verbose=0)>"
      ]
     },
     "execution_count": 28,
     "metadata": {},
     "output_type": "execute_result"
    }
   ],
   "source": [
    "nmf.get_params"
   ]
  },
  {
   "cell_type": "markdown",
   "metadata": {},
   "source": [
    "Reduce to 2 classes"
   ]
  },
  {
   "cell_type": "code",
   "execution_count": 29,
   "metadata": {},
   "outputs": [],
   "source": [
    "from sklearn.datasets import fetch_20newsgroups\n",
    "categories = ['comp.graphics',\n",
    "'comp.os.ms-windows.misc',\n",
    "'comp.sys.ibm.pc.hardware',\n",
    "'comp.sys.mac.hardware','rec.autos',\n",
    "'rec.motorcycles','rec.sport.baseball',\n",
    "'rec.sport.hockey']\n",
    "twenty_train = fetch_20newsgroups(subset='train', categories=categories, shuffle=True, random_state=42)\n",
    "twenty_test = fetch_20newsgroups(subset='test', categories=categories, shuffle=True, random_state=42)"
   ]
  },
  {
   "cell_type": "code",
   "execution_count": 41,
   "metadata": {},
   "outputs": [
    {
     "data": {
      "text/plain": [
       "(4732,)"
      ]
     },
     "execution_count": 41,
     "metadata": {},
     "output_type": "execute_result"
    }
   ],
   "source": [
    "target2_names=['Computer technology','Recreational activity']\n",
    "target2=np.zeros([4732,1])\n",
    "for i in range(0,len(twenty_train.target)):\n",
    "    if twenty_train.target[i]<=3:\n",
    "        target2[i]=0\n",
    "    else:\n",
    "        target2[i]=1\n",
    "target2=np.int_(target2).ravel()\n",
    "target2.shape"
   ]
  },
  {
   "cell_type": "code",
   "execution_count": 42,
   "metadata": {},
   "outputs": [
    {
     "data": {
      "text/plain": [
       "(3150,)"
      ]
     },
     "execution_count": 42,
     "metadata": {},
     "output_type": "execute_result"
    }
   ],
   "source": [
    "target2_test=np.zeros([3150,1])\n",
    "for i in range(0,len(twenty_test.target)):\n",
    "    if twenty_test.target[i]<=3:\n",
    "        target2_test[i]=0\n",
    "    else:\n",
    "        target2_test[i]=1\n",
    "target2_test=np.int_(target2_test).ravel()\n",
    "target2_test.shape"
   ]
  },
  {
   "cell_type": "code",
   "execution_count": 43,
   "metadata": {},
   "outputs": [
    {
     "name": "stdout",
     "output_type": "stream",
     "text": [
      "(3150,)\n"
     ]
    }
   ],
   "source": [
    "print(twenty_test.target.shape)"
   ]
  },
  {
   "cell_type": "code",
   "execution_count": 44,
   "metadata": {},
   "outputs": [
    {
     "name": "stdout",
     "output_type": "stream",
     "text": [
      "accuracy:0.9707936507936508\n"
     ]
    }
   ],
   "source": [
    "from sklearn.datasets import fetch_20newsgroups\n",
    "from sklearn.metrics import confusion_matrix\n",
    "from sklearn.metrics import accuracy_score\n",
    "from sklearn.metrics import precision_score\n",
    "from sklearn.metrics import recall_score\n",
    "from sklearn.metrics import roc_curve\n",
    "from sklearn.metrics import auc\n",
    "from sklearn.feature_extraction.text import CountVectorizer\n",
    "from sklearn.feature_extraction.text import TfidfTransformer\n",
    "from sklearn.svm import SVC\n",
    "\n",
    "\n",
    "from sklearn.pipeline import Pipeline\n",
    "pipeline1 = Pipeline([\n",
    "    ('vect', CountVectorizer(min_df=min_df,analyzer=stem_rmv_digit, stop_words='english')),\n",
    "    ('tfidf', TfidfTransformer()),\n",
    "    ('reduce_dim', TruncatedSVD(n_components=50, random_state=0)),\n",
    "    ('clf', SVC(kernel='linear', C=1000)),\n",
    "])\n",
    "pipeline1.fit(twenty_train.data, target2)\n",
    "predict = pipeline1.predict(twenty_test.data)\n",
    "print(\"accuracy:{}\".format(accuracy_score(target2_test, predict)))"
   ]
  },
  {
   "cell_type": "code",
   "execution_count": 45,
   "metadata": {},
   "outputs": [
    {
     "data": {
      "image/png": "[encoded data removed]",
      "text/plain": [
       "<Figure size 432x288 with 1 Axes>"
      ]
     },
     "metadata": {
      "needs_background": "light"
     },
     "output_type": "display_data"
    }
   ],
   "source": [
    "import matplotlib.pyplot as plt\n",
    "%matplotlib inline\n",
    "def plot_roc(fpr, tpr):\n",
    "    fig, ax = plt.subplots()\n",
    "\n",
    "    roc_auc = auc(fpr,tpr)\n",
    "\n",
    "    ax.plot(fpr, tpr, lw=2, label= 'area under curve = %0.4f' % roc_auc)\n",
    "\n",
    "    ax.grid(color='0.7', linestyle='--', linewidth=1)\n",
    "\n",
    "    ax.set_xlim([-0.1, 1.1])\n",
    "    ax.set_ylim([0.0, 1.05])\n",
    "    ax.set_xlabel('False Positive Rate',fontsize=15)\n",
    "    ax.set_ylabel('True Positive Rate',fontsize=15)\n",
    "\n",
    "    ax.legend(loc=\"lower right\")\n",
    "\n",
    "    for label in ax.get_xticklabels()+ax.get_yticklabels():\n",
    "        label.set_fontsize(15)\n",
    "\n",
    "def fit_predict_and_plot_roc(pipe, train_data, train_label, test_data, test_label):\n",
    "    pipe.fit(train_data, train_label)\n",
    "    # pipeline1.predict(twenty_test.data)\n",
    "\n",
    "    if hasattr(pipe, 'decision_function'):\n",
    "        prob_score = pipe.decision_function(test_data)\n",
    "        fpr, tpr, _ = roc_curve(test_label, prob_score)\n",
    "    else:\n",
    "        prob_score = pipe.predict_proba(test_data)\n",
    "        fpr, tpr, _ = roc_curve(test_label, prob_score[:,1])\n",
    "    \n",
    "       \n",
    "    #print('recall: %s'%(recall_score(test_label,prob_value))\n",
    "    #print ('accuracy: %s'+str(accuracy_score(test_label,prob_value)\n",
    "    #print 'precision:'+str(precision_score(test_label,prob_value)\n",
    "    plot_roc(fpr, tpr)\n",
    "fit_predict_and_plot_roc(pipeline1, twenty_train.data, target2, twenty_test.data,target2_test)"
   ]
  },
  {
   "cell_type": "code",
   "execution_count": 46,
   "metadata": {},
   "outputs": [
    {
     "name": "stdout",
     "output_type": "stream",
     "text": [
      "Accuracy:    0.970794\n",
      "Precision:   0.970920\n",
      "Recall:      0.970731\n",
      "F1_score:    0.971250\n",
      "Confusion Matrix: \n",
      "[[1504   56]\n",
      " [  36 1554]]\n"
     ]
    }
   ],
   "source": [
    "from sklearn.metrics import f1_score\n",
    "print(\"%-12s %f\" % ('Accuracy:', accuracy_score(target2_test, predict)))\n",
    "print(\"%-12s %f\" % ('Precision:', precision_score(target2_test, predict, average='macro')))\n",
    "print(\"%-12s %f\" % ('Recall:', recall_score(target2_test, predict, average='macro')))\n",
    "print(\"%-12s %f\" % ('F1_score:', f1_score(target2_test, predict)))\n",
    "print(\"Confusion Matrix: \\n{0}\".format(confusion_matrix(target2_test, predict)))\n"
   ]
  },
  {
   "cell_type": "code",
   "execution_count": 48,
   "metadata": {},
   "outputs": [
    {
     "name": "stdout",
     "output_type": "stream",
     "text": [
      "Accuracy:    0.504762\n",
      "Precision:   0.252381\n",
      "Recall:      0.500000\n",
      "F1_score:    0.670886\n",
      "Confusion Matrix: \n",
      "[[   0 1560]\n",
      " [   0 1590]]\n"
     ]
    },
    {
     "name": "stderr",
     "output_type": "stream",
     "text": [
      "/Users/yuqi/anaconda3/lib/python3.7/site-packages/sklearn/metrics/classification.py:1143: UndefinedMetricWarning: Precision is ill-defined and being set to 0.0 in labels with no predicted samples.\n",
      "  'precision', 'predicted', average, warn_for)\n"
     ]
    }
   ],
   "source": [
    "pipeline2 = Pipeline([\n",
    "    ('vect', CountVectorizer(min_df=min_df,analyzer=stem_rmv_digit, stop_words='english')),\n",
    "    ('tfidf', TfidfTransformer()),\n",
    "    ('reduce_dim', TruncatedSVD(n_components=50, random_state=0)),\n",
    "    ('clf', SVC(kernel='linear', C=0.0001)),\n",
    "])\n",
    "pipeline2.fit(twenty_train.data, target2)\n",
    "predict2 = pipeline2.predict(twenty_test.data)\n",
    "print(\"%-12s %f\" % ('Accuracy:', accuracy_score(target2_test, predict2)))\n",
    "print(\"%-12s %f\" % ('Precision:', precision_score(target2_test, predict2, average='macro')))\n",
    "print(\"%-12s %f\" % ('Recall:', recall_score(target2_test, predict2, average='macro')))\n",
    "print(\"%-12s %f\" % ('F1_score:', f1_score(target2_test, predict2)))\n",
    "print(\"Confusion Matrix: \\n{0}\".format(confusion_matrix(target2_test, predict2)))\n"
   ]
  },
  {
   "cell_type": "code",
   "execution_count": 50,
   "metadata": {},
   "outputs": [
    {
     "name": "stdout",
     "output_type": "stream",
     "text": [
      "accuracy:0.5047619047619047\n"
     ]
    },
    {
     "data": {
      "image/png": "[encoded data removed]",
      "text/plain": [
       "<Figure size 432x288 with 1 Axes>"
      ]
     },
     "metadata": {
      "needs_background": "light"
     },
     "output_type": "display_data"
    }
   ],
   "source": [
    "fit_predict_and_plot_roc(pipeline2, twenty_train.data, target2, twenty_test.data, target2_test)\n",
    "print(\"accuracy:{}\".format(accuracy_score(target2_test, predict2)))"
   ]
  },
  {
   "cell_type": "code",
   "execution_count": null,
   "metadata": {},
   "outputs": [],
   "source": []
  }
 ],
 "metadata": {
  "kernelspec": {
   "display_name": "Python 3",
   "language": "python",
   "name": "python3"
  },
  "language_info": {
   "codemirror_mode": {
    "name": "ipython",
    "version": 3
   },
   "file_extension": ".py",
   "mimetype": "text/x-python",
   "name": "python",
   "nbconvert_exporter": "python",
   "pygments_lexer": "ipython3",
   "version": "3.7.1"
  }
 },
 "nbformat": 4,
 "nbformat_minor": 2
}
